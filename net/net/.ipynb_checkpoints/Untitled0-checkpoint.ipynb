{
 "metadata": {
  "name": "",
  "signature": "sha256:e2e9bc63442ffb9a8b5248522f8a1340786d7a0c9747535c1b7f24bb85aec199"
 },
 "nbformat": 3,
 "nbformat_minor": 0,
 "worksheets": []
}