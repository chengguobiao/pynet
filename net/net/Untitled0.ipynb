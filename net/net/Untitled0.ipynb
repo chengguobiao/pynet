{
 "metadata": {
  "name": "",
  "signature": "sha256:51bcbfd584a10280d4ed7d947c9f7b10fa27e94cbfc3323c2dcd35217c456406"
 },
 "nbformat": 3,
 "nbformat_minor": 0,
 "worksheets": [
  {
   "cells": [
    {
     "cell_type": "code",
     "collapsed": false,
     "input": [
      "for i in range(0,3):\n",
      "    print i"
     ],
     "language": "python",
     "metadata": {},
     "outputs": [
      {
       "output_type": "stream",
       "stream": "stdout",
       "text": [
        "0\n",
        "1\n",
        "2\n"
       ]
      }
     ],
     "prompt_number": 6
    },
    {
     "cell_type": "code",
     "collapsed": false,
     "input": [
      "a = [1,2,3]\n",
      "d = {}\n",
      "for x in a:\n",
      "    d[x] = 0\n",
      "print d\n",
      "for i in a:\n",
      "    for j in a:\n",
      "        if i!=j and d[j]!=1:\n",
      "            print (i,j)\n",
      "            d[j] = 1\n",
      "            d[i] = 1"
     ],
     "language": "python",
     "metadata": {},
     "outputs": [
      {
       "output_type": "stream",
       "stream": "stdout",
       "text": [
        "{1: 0, 2: 0, 3: 0}\n",
        "(1, 2)\n",
        "(1, 3)\n"
       ]
      }
     ],
     "prompt_number": 12
    },
    {
     "cell_type": "code",
     "collapsed": false,
     "input": [],
     "language": "python",
     "metadata": {},
     "outputs": [],
     "prompt_number": 7
    },
    {
     "cell_type": "code",
     "collapsed": false,
     "input": [],
     "language": "python",
     "metadata": {},
     "outputs": []
    }
   ],
   "metadata": {}
  }
 ]
}